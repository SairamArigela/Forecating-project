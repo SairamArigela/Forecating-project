{
 "cells": [
  {
   "cell_type": "code",
   "execution_count": 4,
   "id": "42e64c9c",
   "metadata": {},
   "outputs": [],
   "source": [
    "import pandas as pd\n",
    "import numpy as np\n",
    "import matplotlib.pyplot as plt\n",
    "import seaborn as sns\n",
    "from statsmodels.tsa.seasonal import seasonal_decompose\n",
    "\n",
    "from statsmodels.tsa.holtwinters import SimpleExpSmoothing # SES\n",
    "from statsmodels.tsa.holtwinters import Holt # Holts Exponential Smoothing\n",
    "from statsmodels.tsa.holtwinters import ExponentialSmoothing \n",
    "\n",
    "from pickle import dump\n",
    "from pickle import load"
   ]
  },
  {
   "cell_type": "code",
   "execution_count": 2,
   "id": "95096a0b",
   "metadata": {},
   "outputs": [],
   "source": [
    "stock=pd.read_csv(\"C:\\\\Users\\\\Siva\\\\Desktop\\\\ExcelR\\\\Project\\\\AAPL.csv\")"
   ]
  },
  {
   "cell_type": "code",
   "execution_count": 3,
   "id": "262069d4",
   "metadata": {},
   "outputs": [
    {
     "name": "stderr",
     "output_type": "stream",
     "text": [
      "C:\\Users\\Siva\\anaconda3\\lib\\site-packages\\statsmodels\\tsa\\holtwinters\\model.py:915: ConvergenceWarning: Optimization failed to converge. Check mle_retvals.\n",
      "  warnings.warn(\n"
     ]
    }
   ],
   "source": [
    "hwe_muladd_model = ExponentialSmoothing(stock[\"Close\"],seasonal=\"mul\",trend=\"add\",seasonal_periods=252).fit()"
   ]
  },
  {
   "cell_type": "code",
   "execution_count": 6,
   "id": "c71b0e58",
   "metadata": {},
   "outputs": [],
   "source": [
    "filename = 'final_model.sav'\n",
    "dump(hwe_muladd_model, open(filename, 'wb'))"
   ]
  },
  {
   "cell_type": "code",
   "execution_count": 8,
   "id": "c87c37a3",
   "metadata": {},
   "outputs": [
    {
     "name": "stdout",
     "output_type": "stream",
     "text": [
      "2011    291.284870\n",
      "2012    287.650824\n",
      "2013    279.781489\n",
      "2014    280.326683\n",
      "2015    274.311529\n",
      "2016    271.515266\n",
      "2017    272.172089\n",
      "2018    274.648619\n",
      "2019    274.508082\n",
      "2020    274.136989\n",
      "dtype: float64\n"
     ]
    }
   ],
   "source": [
    "loaded_model = load(open(filename, 'rb'))\n",
    "\n",
    "result = loaded_model.forecast(10)\n",
    "print(result)"
   ]
  },
  {
   "cell_type": "code",
   "execution_count": null,
   "id": "3c01ec6e",
   "metadata": {},
   "outputs": [],
   "source": []
  }
 ],
 "metadata": {
  "kernelspec": {
   "display_name": "Python 3 (ipykernel)",
   "language": "python",
   "name": "python3"
  },
  "language_info": {
   "codemirror_mode": {
    "name": "ipython",
    "version": 3
   },
   "file_extension": ".py",
   "mimetype": "text/x-python",
   "name": "python",
   "nbconvert_exporter": "python",
   "pygments_lexer": "ipython3",
   "version": "3.9.13"
  }
 },
 "nbformat": 4,
 "nbformat_minor": 5
}
